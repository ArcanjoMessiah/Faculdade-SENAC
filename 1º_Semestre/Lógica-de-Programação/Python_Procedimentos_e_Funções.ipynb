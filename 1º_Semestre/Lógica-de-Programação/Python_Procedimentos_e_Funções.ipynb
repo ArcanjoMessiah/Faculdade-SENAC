{
  "nbformat": 4,
  "nbformat_minor": 0,
  "metadata": {
    "colab": {
      "provenance": []
    },
    "kernelspec": {
      "name": "python3",
      "display_name": "Python 3"
    }
  },
  "cells": [
    {
      "cell_type": "markdown",
      "metadata": {
        "id": "L_2W0DFEACHj"
      },
      "source": [
        "#Procedimentos ( Procedures ) e Funções (Function )\n",
        "Procedure e Function são sub-rotinas, blocos de código, que executam uma tarefa específica."
      ]
    },
    {
      "cell_type": "code",
      "metadata": {
        "id": "rf1X672aQza3"
      },
      "source": [
        "def calculaIrpf(sal) :\n",
        "  if sal <= 1000 :\n",
        "    vir = 0\n",
        "  elif sal>1000 and sal < 3000:\n",
        "    vir = sal * 0.15\n",
        "  else:\n",
        "    vir = sal * 0.20\n",
        "  return vir      \n",
        "\n",
        "# programa principal\n",
        "salarioA = 4000\n",
        "salarioB = 3700\n",
        "salarioC = 890\n",
        "print(calculaIrpf(salarioA))\n",
        "print(calculaIrpf(salarioB))\n",
        "print(calculaIrpf(salarioC))"
      ],
      "execution_count": null,
      "outputs": []
    },
    {
      "cell_type": "code",
      "metadata": {
        "id": "bIx4rbJrP9gb"
      },
      "source": [
        "def  f_idade (anonasc, anoatual) :\n",
        "  idade = anoatual - anonasc\n",
        "  return idade\n",
        "\n",
        "# programa principal\n",
        "print(f_idade(1998,2020)) \n",
        "idadenova = f_idade(1981,2020) \n",
        "print(idadenova)"
      ],
      "execution_count": null,
      "outputs": []
    },
    {
      "cell_type": "code",
      "metadata": {
        "id": "nTc-8M9B_-JN"
      },
      "source": [
        "# Procedimentos e funções do programa\n",
        "def f_soma ( a , b) :\n",
        "    soma = a + b\n",
        "    return  soma\n",
        "\n",
        "# final dos Procedimentos e funções do programa\n",
        "\n",
        "# Programa Calculo;\n",
        "num1 = int(input('Digite o 1º número:'))\n",
        "num2 = int(input('Digite o 2º número:'))\n",
        "resultado = f_soma(num1,num2)\n",
        "print ('Soma (utilizando função ) = ', resultado)\n",
        "# Final do Programa"
      ],
      "execution_count": null,
      "outputs": []
    },
    {
      "cell_type": "code",
      "metadata": {
        "id": "wokVUM6RD8tS"
      },
      "source": [
        "# Exemplo 1 : Criar uma função que informe se o número positivo. A função deverá \n",
        "# receber o número, testar se ele é positivo e retornar True, se ele for positivo \n",
        "# e False se ele for negativo.\n",
        "\n",
        "# Função que retorna True se o número for positivo e False se for negativo\n",
        "def e_positivo(num):\n",
        "  if num > 0 :\n",
        "    return True\n",
        "  else :\n",
        "    return False\n",
        "\n",
        "# Programa Principal\n",
        "n = int(input('Digite um número :'))\n",
        "if e_positivo(n) :\n",
        "  print('O número é positivo')\n",
        "else:\n",
        "  print('O número não é positivo')  \n",
        "\n"
      ],
      "execution_count": null,
      "outputs": []
    },
    {
      "cell_type": "code",
      "metadata": {
        "id": "wKB9WFmSDB6w"
      },
      "source": [
        "# Exemplo 2 : Criar uma função que informe se o número é par.\n",
        "\n",
        "# Função que retorna True se o número for par\n",
        "def e_par(num):\n",
        "  if num % 2 == 0 :\n",
        "    return True\n",
        "  else :\n",
        "    return False\n",
        "\n",
        "# Programa Principal\n",
        "print(e_par(9))"
      ],
      "execution_count": null,
      "outputs": []
    },
    {
      "cell_type": "code",
      "metadata": {
        "id": "okVbw-97BIKl",
        "colab": {
          "base_uri": "https://localhost:8080/"
        },
        "outputId": "604f75e9-8ed4-48ff-dad7-de4fcfe92c8d"
      },
      "source": [
        "# Exemplo 3 : Escreva uma função que gere uma sequência de valores de uma PA (Progressão Aritmética),\n",
        "# a partir da entrada do 1º elemento, da razão e do número de elementos desejados.\n",
        "def f_pa(p, r, n) :\n",
        "  numero = p\n",
        "  for c in range(p,n):\n",
        "    print(numero)\n",
        "    numero = numero + r\n",
        "  return numero  \n",
        "\n",
        "print(f_pa(1,5,4))"
      ],
      "execution_count": null,
      "outputs": [
        {
          "output_type": "stream",
          "name": "stdout",
          "text": [
            "1\n",
            "6\n",
            "11\n",
            "16\n"
          ]
        }
      ]
    },
    {
      "cell_type": "code",
      "metadata": {
        "id": "2NZYy4sUFck_"
      },
      "source": [
        "# Exemplo 4 : Escreva uma função que gere a sequência de fibonacci. Sabe-se que a série de fibonacci \n",
        "# começa pelo número 0, depois vem o 1 e os próximos são a soma dos dois números anteriores.\n",
        "# Ex: 0, 1, 1, 2, 3, 5, 8, 13, ....\n",
        "# A sua função deverá receber a quantidade de números da série. Por exemplo, ao receber 5 \n",
        "\n",
        "def fibonacci(n):\n",
        "  sequencia = '0, 1'\n",
        "  penultimo = 0\n",
        "  ultimo = 1 \n",
        "  for c in range (0, n -2) :\n",
        "    soma = penultimo + ultimo \n",
        "    sequencia += ', '+str(soma)\n",
        "    penultimo = ultimo\n",
        "    ultimo = soma\n",
        "  return sequencia  \n",
        "\n",
        "# Programa Principal\n",
        "num = int(input('Digite a quantidade de elementos da série de Fibonacci :'))\n",
        "print(fibonacci(num))"
      ],
      "execution_count": null,
      "outputs": []
    },
    {
      "cell_type": "code",
      "metadata": {
        "id": "3p6ZPsLTP-8j"
      },
      "source": [
        "# Escreva uma função que receba dois valores e retorne o maior valor.\n",
        "def f_maior( a, b ) :\n",
        "  if a > b :\n",
        "    return a\n",
        "  else :\n",
        "    return b\n",
        "\n",
        "# Programa Principal\n",
        "print(f_maior(8,6))"
      ],
      "execution_count": null,
      "outputs": []
    },
    {
      "cell_type": "code",
      "metadata": {
        "id": "U4AkxIRRQNLo"
      },
      "source": [
        "# Escreva uma função que calcule a media de uma lista de valores\n",
        "def f_media(lista) :\n",
        "  print(lista)\n",
        "  soma = sum(lista)\n",
        "  qtd  = len(lista)\n",
        "  media = soma /qtd\n",
        "  return media\n",
        "\n",
        "# Programa principal\n",
        "notas = [9.5, 8, 7.5 , 9, 4, 7.5, 6]\n",
        "print(f_media(notas))"
      ],
      "execution_count": null,
      "outputs": []
    }
  ]
}