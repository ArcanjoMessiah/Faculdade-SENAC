{
  "nbformat": 4,
  "nbformat_minor": 0,
  "metadata": {
    "colab": {
      "provenance": []
    },
    "kernelspec": {
      "name": "python3",
      "display_name": "Python 3"
    },
    "language_info": {
      "name": "python"
    }
  },
  "cells": [
    {
      "cell_type": "code",
      "execution_count": null,
      "metadata": {
        "colab": {
          "base_uri": "https://localhost:8080/"
        },
        "id": "W3geOxrVHYfi",
        "outputId": "94493a46-69c6-4d4c-bc56-f711f6c20244"
      },
      "outputs": [
        {
          "output_type": "stream",
          "name": "stdout",
          "text": [
            "Hello Word!!\n",
            "Turma 1-B ADS!\n"
          ]
        }
      ],
      "source": [
        "print (\"Hello Word!!\")\n",
        "\n",
        "print (\"Turma 1-B ADS!\")"
      ]
    },
    {
      "cell_type": "code",
      "source": [
        "turma= \" 1 - B \"\n",
        "curso= \" A D S \"\n",
        "aluno= \"Douglas\"\n",
        "\n",
        "print (aluno,turma,curso)\n"
      ],
      "metadata": {
        "colab": {
          "base_uri": "https://localhost:8080/"
        },
        "id": "lTFn-07WH98W",
        "outputId": "f03c417e-9374-43d8-ed6a-e4aa608af19c"
      },
      "execution_count": null,
      "outputs": [
        {
          "output_type": "stream",
          "name": "stdout",
          "text": [
            "Douglas  1 - B   A D S \n"
          ]
        }
      ]
    }
  ]
}