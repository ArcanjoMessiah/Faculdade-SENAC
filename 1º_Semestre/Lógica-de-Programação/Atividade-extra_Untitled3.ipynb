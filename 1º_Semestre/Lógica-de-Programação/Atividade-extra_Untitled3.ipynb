{
  "nbformat": 4,
  "nbformat_minor": 0,
  "metadata": {
    "colab": {
      "provenance": []
    },
    "kernelspec": {
      "name": "python3",
      "display_name": "Python 3"
    },
    "language_info": {
      "name": "python"
    }
  },
  "cells": [
    {
      "cell_type": "code",
      "execution_count": null,
      "metadata": {
        "colab": {
          "base_uri": "https://localhost:8080/"
        },
        "id": "fTtxW7oLzDMh",
        "outputId": "19af2889-2041-4a08-e9e4-803169ce6f15"
      },
      "outputs": [
        {
          "output_type": "stream",
          "name": "stdout",
          "text": [
            "00025505122\n",
            "fatiando string  000\n",
            "Contagem a partir do final da string  2\n",
            "Print ao contrário  22150552000\n",
            "contagem de caracteres  11\n"
          ]
        }
      ],
      "source": [
        "teste= \"00025505122\"\n",
        "print(teste)\n",
        "print(\"fatiando string \", teste[ :3])\n",
        "print(\"Contagem a partir do final da string \", teste[-2]) \n",
        "print(\"Print ao contrário \", teste[ : :-1])\n",
        "print(\"contagem de caracteres \",len(teste))\n"
      ]
    },
    {
      "cell_type": "code",
      "source": [
        "msg = \"A ligeira raposa marron ataca o cão preguiçoso\"\n",
        "print(msg)\n",
        "print(\"Imprima o caractere da posição 12\", msg[12])\n",
        "print(\"Imprima todos os caracteres a partir da posição 8\", msg[8: ])\n",
        "print(\"Imprima a frase invertendo a ordem das letras\", msg[ :-1])\n",
        "print(\"Imprima quantas vezes a letra 'a' aparece na frase\", msg.lower().count(\"a\"))"
      ],
      "metadata": {
        "id": "Ux4jv0DH3G5X",
        "colab": {
          "base_uri": "https://localhost:8080/"
        },
        "outputId": "ef322c87-f0a3-422c-e3c5-f628de807959"
      },
      "execution_count": null,
      "outputs": [
        {
          "output_type": "stream",
          "name": "stdout",
          "text": [
            "A ligeira raposa marron ataca o cão preguiçoso\n",
            "Imprima o caractere da posição 12 p\n",
            "Imprima todos os caracteres a partir da posição 8 a raposa marron ataca o cão preguiçoso\n",
            "Imprima a frase invertendo a ordem das letras A ligeira raposa marron ataca o cão preguiços\n",
            "Imprima quantas vezes a letra 'a' aparece na frase 8\n"
          ]
        }
      ]
    }
  ]
}