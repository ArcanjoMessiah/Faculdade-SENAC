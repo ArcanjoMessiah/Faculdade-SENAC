{
  "nbformat": 4,
  "nbformat_minor": 0,
  "metadata": {
    "colab": {
      "name": "Untitled4.ipynb",
      "provenance": []
    },
    "kernelspec": {
      "name": "python3",
      "display_name": "Python 3"
    },
    "language_info": {
      "name": "python"
    }
  },
  "cells": [
    {
      "cell_type": "code",
      "execution_count": null,
      "metadata": {
        "id": "I4vjo8XErAsQ"
      },
      "outputs": [],
      "source": [
        "#@ Exercicio 01\n",
        "\n",
        "sexo = input(\"Digite o sexo: \")\n",
        "if sexo.upper()==\"M\":\n",
        "  print(\"Masculino\")\n",
        "\n",
        "if sexo.upper()==\"F\":\n",
        "  print(\"Feminino\")"
      ]
    },
    {
      "cell_type": "code",
      "source": [
        "\n",
        "nota = float(input (\"Digite a nota :  \"))\n",
        "\n",
        "\n",
        "\n",
        "if (nota>=7):\n",
        "    print(\"Aprovado!!!\")\n",
        "\n",
        "if(nota<5):\n",
        "  print(\"Reprovado!!!\")\n",
        "\n",
        "else :   \n",
        "   print(\"Recuperação!\")\n"
      ],
      "metadata": {
        "id": "LVhS15oKrTia"
      },
      "execution_count": null,
      "outputs": []
    },
    {
      "cell_type": "code",
      "source": [
        "salario = float(input(\"Digite o seu salário? R$ \"))\n",
        "gratificação =0\n",
        "\n",
        "if (salario<= 3000) : \n",
        "  gratificação = salario * 10/100 \n",
        "if (salario> 3000) : \n",
        "  gratificação = salario * 6/100 \n",
        "\n",
        "print(f\"Sua gratificação será de R$ {gratificação: .2f}\")\n",
        "\n"
      ],
      "metadata": {
        "colab": {
          "base_uri": "https://localhost:8080/"
        },
        "id": "tb_Zy8BmsHhC",
        "outputId": "adc80352-6af5-416b-f1c9-0d2842f183f6"
      },
      "execution_count": 4,
      "outputs": [
        {
          "output_type": "stream",
          "name": "stdout",
          "text": [
            "Digite o seu salário? R$ 5000\n",
            "Sua gratificação será de R$  300.00\n"
          ]
        }
      ]
    },
    {
      "cell_type": "code",
      "source": [
        "#@ Exercicio 02\n",
        "\n",
        "correto = 0\n",
        "honestidade = 0\n",
        "pureza = 0\n",
        "integridade = 0\n",
        "\n",
        "\n",
        "\n",
        "\n",
        "votos = 0\n",
        "\n",
        "while votos< 500 :\n",
        "  candidato= int(input(\"Digite o seu cadidato \\n\\n 1 - Correto \\n 2 - Honestidade\\n 3 - Pureza\\n 4 - Integridade \\n\"))\n",
        "  votos=votos+1\n",
        "\n",
        "  if candidato == 1: \n",
        "    correto=correto+1\n",
        "  if candidato== 2: \n",
        "    honestidade= honestidade+1\n",
        "  if candidato == 3 :\n",
        "    pureza = pureza+1\n",
        "  if candidato == 4 : \n",
        "    integridade = integridade+1\n",
        "\n",
        "  \n",
        "  \n",
        "\n",
        "if (correto >honestidade and correto>pureza and correto>integridade): \n",
        "  print(\"O vencedr da eleição foi Correto\")\n",
        "if (honestidade>correto and honestidade>pureza and honestidade>integridade): \n",
        "  print(\"O vencedr da eleição foi Honestidade\")\n",
        "if (pureza >honestidade and pureza>correto and pureza>integridade): \n",
        "  print(\"O vencedr da eleição foi Pureza\")\n",
        "if (integridade >honestidade and integridade>pureza and integridade>correto): \n",
        "  print(\"O vencedr da eleição foi Integridade\")\n",
        "  \n",
        "      \n",
        "  \n",
        "\n"
      ],
      "metadata": {
        "id": "9sTBTarFt56U"
      },
      "execution_count": null,
      "outputs": []
    },
    {
      "cell_type": "code",
      "source": [
        "cargo=int(input(\"Informe o seu cargo: 1 – Analista, 2 – Técnico ou 3 - Auxiliar\"))\n",
        "salario = float(input(\"Digite o seu salário? R$ \"))\n",
        "gratificação =0\n",
        "\n",
        "if (cargo== 1) : \n",
        "  gratificação = salario * 25/100 \n",
        "if (cargo== 2) : \n",
        "  gratificação = salario * 15/100 \n",
        "if (cargo== 3) : \n",
        "  gratificação = salario * 10/100 \n",
        "\n",
        "\n",
        "print(f\"Sua gratificação será de R$ {gratificação: .2f}\")"
      ],
      "metadata": {
        "colab": {
          "base_uri": "https://localhost:8080/"
        },
        "id": "rcN_d7cz0XrJ",
        "outputId": "82816e2e-488a-4723-b337-0fef7e12f4f9"
      },
      "execution_count": 21,
      "outputs": [
        {
          "output_type": "stream",
          "name": "stdout",
          "text": [
            "Informe o seu cargo: 1– Analista, 2–Técnico ou 3 Auxiliar2\n",
            "Digite o seu salário? R$ 3000\n",
            "Sua gratificação será de R$  450.00\n"
          ]
        }
      ]
    }
  ]
}