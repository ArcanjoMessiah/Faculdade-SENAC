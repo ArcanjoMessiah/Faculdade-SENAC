{
  "nbformat": 4,
  "nbformat_minor": 0,
  "metadata": {
    "colab": {
      "provenance": [],
      "collapsed_sections": [
        "IpMOX11Feg6o"
      ]
    },
    "kernelspec": {
      "name": "python3",
      "display_name": "Python 3"
    }
  },
  "cells": [
    {
      "cell_type": "markdown",
      "metadata": {
        "id": "lKlwpDmT3hNQ"
      },
      "source": [
        "# Vetores\n",
        "**VETOR** - Vetores são variáveis compostas unidimensionais que permitem armazenar um conjunto de dados. Eles são similares ao uso de várias variáveis, porém com uma grande vantagem na hora da manipulação, pois permitem o acesso aos valores a partir de um único nome de variável e um índice que indica o elemento a ser acessado. A lista de dados contidados num vetor são numerados de 0 a x, por exemplo: \n",
        "semana = ['Dom', 'Seg', 'Ter', 'Qua','Qui', 'Sex', 'Sáb] # Dom é o elemento 0 e 'Sáb' o elemento 6.\n",
        "\n",
        "* Se utilizarmos print(semana[3]) veremos 'Qua'"
      ]
    },
    {
      "cell_type": "code",
      "metadata": {
        "id": "epBzIyli3fjq",
        "colab": {
          "base_uri": "https://localhost:8080/",
          "height": 67
        },
        "outputId": "f224539c-f8ce-4f95-ccc6-6abbb0b5cda2"
      },
      "source": [
        "# Criando um vetor para uma lista de frutas\n",
        "frutas = ['Goiaba','Uva', 'Melão']\n",
        "print(frutas[0])\n",
        "print(frutas[1])\n",
        "print(frutas[2])"
      ],
      "execution_count": null,
      "outputs": [
        {
          "output_type": "stream",
          "text": [
            "Goiaba\n",
            "Uva\n",
            "Melão\n"
          ],
          "name": "stdout"
        }
      ]
    },
    {
      "cell_type": "code",
      "metadata": {
        "id": "4NCaagt7Sky0"
      },
      "source": [
        "# Adicionando novos elementos no vetor\n",
        "frutas = ['Goiaba','Uva', 'Melão']\n",
        "print(frutas)\n",
        "frutas.append('Limão')\n",
        "print(frutas)"
      ],
      "execution_count": null,
      "outputs": []
    },
    {
      "cell_type": "code",
      "metadata": {
        "id": "6Nfeo9_uTJ1B"
      },
      "source": [
        "# Excluindo um elemento do vetor\n",
        "frutas = ['Goiaba','Uva', 'Melão']\n",
        "print(frutas)\n",
        "frutas.remove('Uva')\n",
        "print(frutas)"
      ],
      "execution_count": null,
      "outputs": []
    },
    {
      "cell_type": "code",
      "metadata": {
        "id": "BaioqbSYTrWH",
        "colab": {
          "base_uri": "https://localhost:8080/",
          "height": 50
        },
        "outputId": "190adfda-c7b6-4699-fdc2-f3201485240f"
      },
      "source": [
        "# Exemplo 1 - Receber o número do mês e mostrar o mês por extenso\n",
        "mes = ['Janeiro','Fevereiro','Março','Abril','Maio','Junho','Julho','Agosto','Setembro','Outubro','Novembro','Dezembro']\n",
        "num = int(input('Informe o número do mês (1 a 12) :'))\n",
        "print(mes[num-1])"
      ],
      "execution_count": null,
      "outputs": [
        {
          "output_type": "stream",
          "text": [
            "Informe o número do mês (1 a 12) :5\n",
            "Maio\n"
          ],
          "name": "stdout"
        }
      ]
    },
    {
      "cell_type": "code",
      "metadata": {
        "id": "6E0NUblbTHfr",
        "colab": {
          "base_uri": "https://localhost:8080/",
          "height": 34
        },
        "outputId": "280f6873-8b6b-457a-f73f-e0c43a164ca0"
      },
      "source": [
        "veiculo = []\n",
        "veiculo.append('Gol')\n",
        "print(veiculo[0])\n"
      ],
      "execution_count": null,
      "outputs": [
        {
          "output_type": "stream",
          "text": [
            "Gol\n"
          ],
          "name": "stdout"
        }
      ]
    },
    {
      "cell_type": "code",
      "metadata": {
        "id": "4hMxMcDJUgMe"
      },
      "source": [
        "# Exemplo 2 - Percorrendo todos os elementos de um vetor\n",
        "mes = ['Jan','Fev','Mar','Abr','Mai','Jun','Jul','Ago','Set','Out','Nov','Dez']\n",
        "for c in range(0,12):\n",
        "  print(mes[c])"
      ],
      "execution_count": null,
      "outputs": []
    },
    {
      "cell_type": "code",
      "metadata": {
        "id": "svh7s40BYat6",
        "outputId": "3b9d8afd-ddd6-4953-8691-81a96d56893e",
        "colab": {
          "base_uri": "https://localhost:8080/"
        }
      },
      "source": [
        "# Exemplo 3 - Percorrendo todos os elementos de um vetor - versão 2\n",
        "mes = ['Jan','Fev','Mar','Abr','Mai','Jun','Jul','Ago','Set','Out','Nov','Dez']\n",
        "for lido in mes:\n",
        "  print(lido)"
      ],
      "execution_count": null,
      "outputs": [
        {
          "output_type": "stream",
          "name": "stdout",
          "text": [
            "Jan\n",
            "Fev\n",
            "Mar\n",
            "Abr\n",
            "Mai\n",
            "Jun\n",
            "Jul\n",
            "Ago\n",
            "Set\n",
            "Out\n",
            "Nov\n",
            "Dez\n"
          ]
        }
      ]
    },
    {
      "cell_type": "code",
      "metadata": {
        "id": "RXDuAlkSYmVl"
      },
      "source": [
        "# Exemplo 4 - Receber o nome de 10 pessoas e ao final mostrar a lista de nomes digitados\n",
        "listaNomes = []\n",
        "for c in range(0,10):\n",
        "  nome = input('Digite um nome :')\n",
        "  listaNomes.append(nome)\n",
        "  print(listaNomes)\n",
        "for c in range(0,10) :\n",
        "  print(listaNomes[c])\n",
        "# Final do Programa  "
      ],
      "execution_count": null,
      "outputs": []
    },
    {
      "cell_type": "code",
      "metadata": {
        "id": "Br5VI4TIZYk1"
      },
      "source": [
        "print(nome)\n",
        "print(listaNomes)\n",
        "print(listaNomes[0])"
      ],
      "execution_count": null,
      "outputs": []
    },
    {
      "cell_type": "code",
      "metadata": {
        "id": "UOCGKChfZr81"
      },
      "source": [
        "# Exercício 1 - Faça um programa que receba o nome e a profissão de 5 pessoas. Ao final, mostre \n",
        "# a lista de nomes com as respectivas profissões.\n",
        "# Solução:\n",
        "nome = []\n",
        "prof = []\n",
        "for c in range(0,5):\n",
        "  pessoa = input('Digite o nome : ')\n",
        "  trab   = input('Digite a profissão : ')\n",
        "  nome.append(pessoa)\n",
        "  prof.append(trab)\n",
        "print(nome)\n",
        "print(prof)"
      ],
      "execution_count": null,
      "outputs": []
    },
    {
      "cell_type": "code",
      "metadata": {
        "id": "b8jGMYHrdxYO"
      },
      "source": [
        "# Exercício 2 - Faça um programa que receba o nome e o salário de 8 funcionários. Ao final, \n",
        "# mostre a lista de empregados com os respectivos salários e o somatório dos salários. \n",
        "# Solução:\n"
      ],
      "execution_count": null,
      "outputs": []
    },
    {
      "cell_type": "code",
      "metadata": {
        "id": "kKowWiQ2hSwx"
      },
      "source": [
        "import matplotlib.pyplot as graf  # Biblioteca que permite fazer gráficos\n",
        "x  = ['Jan','Fev','Mar','Abr','Mai','Jun']\n",
        "y  = [28900, 72300, 65432, 23456, 56723, 24567]\n",
        "graf.bar(x,y)\n",
        "graf.show()"
      ],
      "execution_count": null,
      "outputs": []
    },
    {
      "cell_type": "code",
      "metadata": {
        "id": "Vn86DnGslgcP"
      },
      "source": [
        "import matplotlib.pyplot as graf\n",
        "frutas = ['Goiaba','Laranja','Manga', 'Abacaxi']\n",
        "vendas = [ 2100 , 3500 , 1200, 5800]\n",
        "graf.pie(vendas, labels = frutas)\n",
        "graf.title('Mercadão das Frutas')\n",
        "graf.show()"
      ],
      "execution_count": null,
      "outputs": []
    },
    {
      "cell_type": "code",
      "metadata": {
        "id": "UqSKF5UanczJ",
        "colab": {
          "base_uri": "https://localhost:8080/",
          "height": 34
        },
        "outputId": "91a27b99-5c98-4ae7-c1c5-4af1f75b0a3f"
      },
      "source": [
        "conjA = {1, 2, 3}\n",
        "conjb = {3, 7, 8}\n",
        "print(conjA - conjb)"
      ],
      "execution_count": null,
      "outputs": [
        {
          "output_type": "stream",
          "text": [
            "{1, 2}\n"
          ],
          "name": "stdout"
        }
      ]
    },
    {
      "cell_type": "markdown",
      "metadata": {
        "id": "H5QvmzoxlO8l"
      },
      "source": [
        "#Matrizes\n",
        "As variáveis compostas bidimensionais permitem armazenar um conjunto de valores. Elas são similares ao uso de várias variáveis, porém com uma grande vantagem na hora de manipulá-las, pois permitem o acesso aos valores a partir de um único nome de variável e dois índices, sendo o primeiro para a indicação da linha e o segundo para a indicação da coluna que contém o dado a ser acessado.\n",
        "\n"
      ]
    },
    {
      "cell_type": "code",
      "metadata": {
        "id": "TxMcoZPxleGw"
      },
      "source": [
        "# Exemplo 1 -   matriz 3 por 3\n",
        "matriz3x3 = [ [2, 8, 5], \n",
        "              [1, 9, 4], \n",
        "              [7, 2, 3] ]\n",
        "print(matriz3x3[0])\n",
        "print(matriz3x3[1])\n",
        "print(matriz3x3[2])"
      ],
      "execution_count": null,
      "outputs": []
    },
    {
      "cell_type": "code",
      "metadata": {
        "id": "0mGxKbhbm506"
      },
      "source": [
        "# Exemplo 2 -   matriz 3 por 3 - Acessando um elemento específico\n",
        "matriz3x3 = [ [2, 8, 5], [1, 9, 4], [7, 2, 3] ]\n",
        "print(matriz3x3[0])\n",
        "print(matriz3x3[1])\n",
        "print(matriz3x3[2])\n",
        "print('Elemento da linha 1, coluna 2 : ' , matriz3x3[0][1])\n",
        "print('Elemento da linha 2, coluna 1 : ' , matriz3x3[1][0])\n",
        "print('Elemento da linha 3, coluna 3 : ' , matriz3x3[2][2])"
      ],
      "execution_count": null,
      "outputs": []
    },
    {
      "cell_type": "code",
      "metadata": {
        "id": "7RPf162dmILz"
      },
      "source": [
        "# Exemplo 3 -   matriz 3 por 3 - somando a lista\n",
        "matriz3x3 = [ [2, 8, 5], [8, 9, 4], [7, 2, 3] ]\n",
        "print(matriz3x3[0])\n",
        "print(matriz3x3[1])\n",
        "print(matriz3x3[2])\n",
        "print('Soma da primeira linha = ' , sum(matriz3x3[0]))\n",
        "print('Soma da segunda linha  = ' , sum(matriz3x3[1]))\n",
        "print('Soma da terceira linha = ' , sum(matriz3x3[2]))"
      ],
      "execution_count": null,
      "outputs": []
    },
    {
      "cell_type": "code",
      "metadata": {
        "id": "CkQFHyYprLHW",
        "colab": {
          "base_uri": "https://localhost:8080/",
          "height": 104
        },
        "outputId": "d8b408aa-9b25-4d97-b505-0c5afa8bd7a2"
      },
      "source": [
        "# Exercício - Construir o Jogo da Velha\n",
        "velha = [ [' ',' ', ' '],[' ',' ', ' '],[' ',' ', ' ']]\n",
        "print(velha[0][0],'|', velha[0][1],'|',velha[0][2])\n",
        "print('---------')\n",
        "print(velha[1][0],'|', velha[1][1],'|',velha[1][2])\n",
        "print('---------')\n",
        "print(velha[2][0],'|', velha[2][1],'|',velha[2][2])\n",
        "\n",
        "for c in range(9):\n",
        "  linha = int(input(\"Digite o número da linha: \"))\n",
        "  coluna = int(input(\"Digite o número da coluna: \"))\n",
        "  jogador = \"X\"\n",
        "  if jogador ==\"X\"\n",
        "   jogador = \"O\"\n",
        "  else: \n",
        "    jogador = \"X\"\n",
        "\n",
        "  print(velha[0][0],'|', velha[0][1],'|',velha[0][2])\n",
        "  print('---------')\n",
        "  print(velha[1][0],'|', velha[1][1],'|',velha[1][2])\n",
        "  print('---------')\n",
        "  print(velha[2][0],'|', velha[2][1],'|',velha[2][2])\n",
        "\n"
      ],
      "execution_count": null,
      "outputs": [
        {
          "output_type": "stream",
          "text": [
            "  |   |  \n",
            "---------\n",
            "  |   |  \n",
            "---------\n",
            "  |   |  \n"
          ],
          "name": "stdout"
        }
      ]
    },
    {
      "cell_type": "code",
      "metadata": {
        "id": "781YMSFgJoP5",
        "colab": {
          "base_uri": "https://localhost:8080/",
          "height": 67
        },
        "outputId": "a1150c98-71db-4678-b745-a42d93b2abc3"
      },
      "source": [
        "nome1 = 'João'\n",
        "nome2 = 'Pedro'\n",
        "nome3 = 'Rita'\n",
        "print(nome1)\n",
        "print(nome2)\n",
        "print(nome3)"
      ],
      "execution_count": null,
      "outputs": [
        {
          "output_type": "stream",
          "text": [
            "João\n",
            "Pedro\n",
            "Rita\n"
          ],
          "name": "stdout"
        }
      ]
    },
    {
      "cell_type": "code",
      "metadata": {
        "id": "VcsNVoiQNbxC",
        "colab": {
          "base_uri": "https://localhost:8080/",
          "height": 67
        },
        "outputId": "a9822305-8425-4349-990d-f976cc929230"
      },
      "source": [
        "alunos = ['João','Pedro','Rita']\n",
        "print(alunos)\n",
        "nome = input('digite um nome:')\n",
        "alunos.append(nome)\n",
        "print(alunos)"
      ],
      "execution_count": null,
      "outputs": [
        {
          "output_type": "stream",
          "text": [
            "['João', 'Pedro', 'Rita']\n",
            "digite um nome:Carlos\n",
            "['João', 'Pedro', 'Rita', 'Carlos']\n"
          ],
          "name": "stdout"
        }
      ]
    },
    {
      "cell_type": "code",
      "metadata": {
        "id": "4vNIXJQTPdeG",
        "colab": {
          "base_uri": "https://localhost:8080/",
          "height": 34
        },
        "outputId": "60bdd6f3-d6fc-4c92-dd76-d17cdf49acf1"
      },
      "source": [
        "funcionarios = ['Roberto', 'Maria','Luiz']\n",
        "print(funcionarios[0])\n"
      ],
      "execution_count": null,
      "outputs": [
        {
          "output_type": "stream",
          "text": [
            "Roberto\n"
          ],
          "name": "stdout"
        }
      ]
    }
  ]
}