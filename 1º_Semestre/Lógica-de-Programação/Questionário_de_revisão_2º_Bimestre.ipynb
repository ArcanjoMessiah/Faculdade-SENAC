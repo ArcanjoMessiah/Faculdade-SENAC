{
  "nbformat": 4,
  "nbformat_minor": 0,
  "metadata": {
    "colab": {
      "provenance": []
    },
    "kernelspec": {
      "name": "python3",
      "display_name": "Python 3"
    },
    "language_info": {
      "name": "python"
    }
  },
  "cells": [
    {
      "cell_type": "code",
      "execution_count": null,
      "metadata": {
        "colab": {
          "base_uri": "https://localhost:8080/"
        },
        "id": "Y8eRVc24hLoz",
        "outputId": "8bdb7485-f5cb-4626-8b57-e7bb51312a6c"
      },
      "outputs": [
        {
          "output_type": "stream",
          "name": "stdout",
          "text": [
            "14\n"
          ]
        }
      ],
      "source": [
        "a=20\n",
        "b=14\n",
        "\n",
        "for c in range(0,3):\n",
        "  aux= a\n",
        "  a=b\n",
        "  b=aux\n",
        "  \n",
        "print(a)"
      ]
    },
    {
      "cell_type": "code",
      "source": [
        "a=2\n",
        "b=5\n",
        "c= 0\n",
        "\n",
        "while c<5: \n",
        "  c+=1\n",
        "  a=a+b\n",
        "  b=a\n",
        "\n",
        "print(b)"
      ],
      "metadata": {
        "colab": {
          "base_uri": "https://localhost:8080/"
        },
        "id": "YoUZ-yAZiILt",
        "outputId": "bf16d4a4-81dc-43a3-b31d-845b593ba08c"
      },
      "execution_count": null,
      "outputs": [
        {
          "output_type": "stream",
          "name": "stdout",
          "text": [
            "112\n"
          ]
        }
      ]
    },
    {
      "cell_type": "code",
      "source": [
        "a=2\n",
        "b=5\n",
        "c= 0\n",
        "\n",
        "while c<5: \n",
        "  c+=1\n",
        "  a=a+b\n",
        "  b=a-b\n",
        "\n",
        "print(a)\n",
        "\n"
      ],
      "metadata": {
        "colab": {
          "base_uri": "https://localhost:8080/"
        },
        "id": "YgSBM1eUrRmX",
        "outputId": "171d84ce-03d0-4511-b5e5-b6dfe2b6da9a"
      },
      "execution_count": null,
      "outputs": [
        {
          "output_type": "stream",
          "name": "stdout",
          "text": [
            "66\n"
          ]
        }
      ]
    },
    {
      "cell_type": "code",
      "source": [
        "resp= \"S\"\n",
        "\n",
        "while resp=='S':\n",
        "  resp= input(\"Digite a sua resposta: (S/N) \\n\")\n",
        "\n"
      ],
      "metadata": {
        "colab": {
          "base_uri": "https://localhost:8080/"
        },
        "id": "BBKG1lA2tbTo",
        "outputId": "0f692daa-b861-4a72-d236-fe78acbbc83d"
      },
      "execution_count": null,
      "outputs": [
        {
          "name": "stdout",
          "output_type": "stream",
          "text": [
            "Digite a sua resposta: (S/N) \n",
            "S\n",
            "Digite a sua resposta: (S/N) \n",
            "n\n"
          ]
        }
      ]
    },
    {
      "cell_type": "code",
      "source": [],
      "metadata": {
        "id": "9Q22j-QgtiH3"
      },
      "execution_count": null,
      "outputs": []
    },
    {
      "cell_type": "code",
      "source": [
        "\n",
        "   \n",
        "vetMeses = ['Janeiro', 'Fevereiro', 'Março', 'Abril', 'Maio', 'Junho', 'Julho', 'Agosto', 'Setembro', 'Outubro', 'Novembro', 'Dezembro']\n",
        "num = int(input('Digite o número do mês desejado:'))\n",
        "\n",
        "if num>=1 and num<=12 :\n",
        "         print('O mês ', num, ' é ', vetMeses[num])\n",
        "else :\n",
        "         print('Mês inválido')\n"
      ],
      "metadata": {
        "colab": {
          "base_uri": "https://localhost:8080/"
        },
        "id": "-ChThzDkirIe",
        "outputId": "b620935c-04b4-49d6-f6ae-a567bd712b63"
      },
      "execution_count": null,
      "outputs": [
        {
          "output_type": "stream",
          "name": "stdout",
          "text": [
            "Digite o número do mês desejado:2\n",
            "O mês  2  é  Fevereiro\n"
          ]
        }
      ]
    },
    {
      "cell_type": "code",
      "source": [
        "  # Programa progSemana\n",
        "vetSemana = ['Domingo', 'Segunda-feira', 'Terça-feira', 'Quarta-feira', 'Quinta-feira', 'Sexta-feira', 'Sábado']\n",
        "num = int(input('Digite o número do dia (1 a 7) :'))\n",
        "\n",
        "if num>=1 and num<=7 :\n",
        "     print('O dia ', num, ' é ', vetSemana[num-1])\n",
        "else :\n",
        "         print('Dia inválido')\n",
        " # final do programa"
      ],
      "metadata": {
        "colab": {
          "base_uri": "https://localhost:8080/"
        },
        "id": "NnjeZLq_vMaM",
        "outputId": "f964174b-fbac-4d7d-ee65-616680a477ac"
      },
      "execution_count": null,
      "outputs": [
        {
          "output_type": "stream",
          "name": "stdout",
          "text": [
            "Digite o número do dia (1 a 7) :9\n",
            "Dia inválido\n"
          ]
        }
      ]
    }
  ]
}