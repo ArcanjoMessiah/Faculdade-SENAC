{
  "nbformat": 4,
  "nbformat_minor": 0,
  "metadata": {
    "colab": {
      "provenance": [],
      "collapsed_sections": []
    },
    "kernelspec": {
      "name": "python3",
      "display_name": "Python 3"
    },
    "language_info": {
      "name": "python"
    }
  },
  "cells": [
    {
      "cell_type": "code",
      "source": [
        "#@ Programa de input \n",
        "\n",
        "nome= input(\"Digite o sesu nome: \")\n",
        "profi= input(\"Digite a sua profissão: \")\n",
        "tempo= int(input(\"Digite o seu tempo de serviço: \"))\n",
        "salario= float(input(\"Digite o seu salário : \"))\n",
        "sexo = input(\"Digite o sexo: \")\n",
        "if sexo.upper()==\"M\":\n",
        "  print(\"Alistamento Militar!\")\n",
        "\n"
      ],
      "metadata": {
        "id": "9s40yrlxhJ8u"
      },
      "execution_count": null,
      "outputs": []
    },
    {
      "cell_type": "code",
      "source": [
        "peso= float(input(\"Digite o seu peso: \"))\n",
        "altura= float(input(\"Digite a sua altura: \"))\n",
        "\n",
        "imc= peso/(altura * 2)\n",
        "\n",
        "print(\"Seu IMC é de : \", imc)\n",
        "\n",
        "\n"
      ],
      "metadata": {
        "colab": {
          "base_uri": "https://localhost:8080/"
        },
        "id": "WNMjYqNG7MbW",
        "outputId": "29ff0650-3d14-4a72-9441-fa90cbe30cf9"
      },
      "execution_count": null,
      "outputs": [
        {
          "output_type": "stream",
          "name": "stdout",
          "text": [
            "Digite o seu peso: 100\n",
            "Digite a sua altura: 1.81\n",
            "Seu IMC é de :  27.624309392265193\n"
          ]
        }
      ]
    },
    {
      "cell_type": "code",
      "source": [
        "valor1 = 15\n",
        "valor2 = 20\n",
        "conta  = 0\n",
        "while conta <= 5:\n",
        "      valor1 = valor2 + conta\n",
        "      valor2 = valor1 + conta\n",
        "      conta  = conta  + 2\n",
        "print(valor1)\n",
        "print(valor2)"
      ],
      "metadata": {
        "colab": {
          "base_uri": "https://localhost:8080/"
        },
        "id": "twkFmRCH5tF5",
        "outputId": "119f4df4-f3ac-4ef3-cff2-11de55432cc1"
      },
      "execution_count": null,
      "outputs": [
        {
          "output_type": "stream",
          "name": "stdout",
          "text": [
            "28\n",
            "32\n"
          ]
        }
      ]
    },
    {
      "cell_type": "code",
      "source": [
        "#@ Contador de votos \n",
        "\n",
        "eleitores= int(input(\"Informa o total de Eleitores:  \"))\n",
        "brancos= int(input(\"Informa o total de votos Brancos: \"))\n",
        "nulos= int(input(\"Informa o total de votos Nulos: \"))\n",
        "validos = int(input(\"Informa o total de votos Válidos: \"))\n",
        "\n",
        "percBrancos = brancos * 100 / eleitores  \n",
        "percNulos = nulos * 100 / eleitores\n",
        "percValidos = validos * 100 / eleitores  \n",
        "\n",
        "print(\"“% votos em branco: \\n\\n\"), percBrancos\n",
        "print(\" % votos nulos:\\n\\n\", percNulos)\n",
        "print(\"% votos válidos:\\n\\n\", percValidos)"
      ],
      "metadata": {
        "colab": {
          "base_uri": "https://localhost:8080/"
        },
        "id": "mXeQsQFo36cX",
        "outputId": "16391272-6faf-4897-cc92-b898911a6c7e"
      },
      "execution_count": null,
      "outputs": [
        {
          "output_type": "stream",
          "name": "stdout",
          "text": [
            "Informa o total de Eleitores1000\n",
            "Informa o total de votos Brancos200\n",
            "Informa o total de votos Nulos100\n",
            "Informa o total de votos Válidos700\n",
            "“% votos em branco: \n",
            "\n",
            "\n",
            " % votos nulos:\n",
            "\n",
            " 10.0\n",
            "% votos válidos:\n",
            "\n",
            " 70.0\n"
          ]
        }
      ]
    },
    {
      "cell_type": "code",
      "source": [],
      "metadata": {
        "id": "1qAGuEbZzRKu"
      },
      "execution_count": null,
      "outputs": []
    },
    {
      "cell_type": "code",
      "source": [
        "#Contador de idade\n",
        "\n",
        "b=0 \n",
        "ma=0\n",
        "me=0\n",
        "\n",
        "while b< 10:\n",
        "  b=b+1 \n",
        "  idade = float(input(\"Digite sua idade: \"))\n",
        "  if idade >=18 :\n",
        "    ma= ma + 1 \n",
        "  else :\n",
        "    me= me+1\n",
        "\n",
        "print(\"O total pessoas maiores de idade é :\", ma)\n",
        "print()\n",
        "print(\"O total menores é : \", me)\n",
        "print(\"Terminado\")"
      ],
      "metadata": {
        "colab": {
          "base_uri": "https://localhost:8080/"
        },
        "id": "IR720m1frhed",
        "outputId": "b1537cd0-160e-467f-8914-806e363d497f"
      },
      "execution_count": null,
      "outputs": [
        {
          "output_type": "stream",
          "name": "stdout",
          "text": [
            "Digite sua idade: 8\n",
            "Digite sua idade: 56\n",
            "Digite sua idade: 34\n",
            "Digite sua idade: 14\n",
            "Digite sua idade: 19\n",
            "Digite sua idade: 22\n",
            "Digite sua idade: 33\n",
            "Digite sua idade: 12\n",
            "Digite sua idade: 8\n",
            "Digite sua idade: 43\n",
            "O total pessoas maiores de idade é : 6\n",
            "\n",
            "O total menores é :  4\n",
            "Terminado\n"
          ]
        }
      ]
    },
    {
      "cell_type": "code",
      "source": [
        "#@title Contador\n",
        "\n",
        "b=0 \n",
        "cm=0\n",
        "cf=0\n",
        "\n",
        "while b< 5:\n",
        "  b=b+1 \n",
        "  sexo = input(\"Digite o sexo: \")\n",
        "  if sexo == \"M\" or \"m\":\n",
        "    cm= cm + 1 \n",
        "  else :\n",
        "    cf= cf+1\n",
        "\n",
        "print(\"O total masculino é :\", cm)\n",
        "print(\"O total feminino é : \", cf)\n",
        "print(\"Terminado\")"
      ],
      "metadata": {
        "id": "f4zcXokVjBa0"
      },
      "execution_count": null,
      "outputs": []
    },
    {
      "cell_type": "code",
      "source": [
        "c=0\n",
        "n=int(input(\"Digite um número:  \"))\n",
        "\n",
        "while c<10:\n",
        "  c= c+1\n",
        "  print(n, \" x \", c , \" = \", n*c)"
      ],
      "metadata": {
        "colab": {
          "base_uri": "https://localhost:8080/"
        },
        "id": "2a9XGlCBXJDu",
        "outputId": "d95e45b7-4d38-4a41-891d-f6b68f783856"
      },
      "execution_count": null,
      "outputs": [
        {
          "output_type": "stream",
          "name": "stdout",
          "text": [
            "Digite um número:  7\n",
            "7  x  1  =  7\n",
            "7  x  2  =  14\n",
            "7  x  3  =  21\n",
            "7  x  4  =  28\n",
            "7  x  5  =  35\n",
            "7  x  6  =  42\n",
            "7  x  7  =  49\n",
            "7  x  8  =  56\n",
            "7  x  9  =  63\n",
            "7  x  10  =  70\n"
          ]
        }
      ]
    },
    {
      "cell_type": "code",
      "source": [],
      "metadata": {
        "id": "smznvb7ZrRFn"
      },
      "execution_count": null,
      "outputs": []
    },
    {
      "cell_type": "code",
      "source": [
        "imp = 1\n",
        "\n",
        "while imp < 102: \n",
        "  print(imp)\n",
        "  imp= imp+2\n",
        "  \n",
        "print(\"Terminado\")"
      ],
      "metadata": {
        "id": "E8ZkpRXmU_5V"
      },
      "execution_count": null,
      "outputs": []
    },
    {
      "cell_type": "code",
      "source": [
        "num = float(input (\"Digite um número:  \"))\n",
        "print (num)\n",
        "\n",
        "dobro = num * 2\n",
        "metade = num / 2\n",
        "print (\"Dobro = \", dobro)\n",
        "print (\"Metade = \", metade)\n"
      ],
      "metadata": {
        "colab": {
          "base_uri": "https://localhost:8080/"
        },
        "id": "X6vRefJRasxg",
        "outputId": "62f12c90-cbfd-4a5e-f5a9-406b39aa30ea"
      },
      "execution_count": null,
      "outputs": [
        {
          "output_type": "stream",
          "name": "stdout",
          "text": [
            "Digite um número:  8\n",
            "8.0\n",
            "Dobro =  16.0\n",
            "Metade =  4.0\n"
          ]
        }
      ]
    },
    {
      "cell_type": "code",
      "source": [
        "#Algoritimo Média final\n",
        "nota1 = float(input (\"Digite a nota 1:  \"))\n",
        "nota2 = float(input (\"Digite a nota 2:  \"))\n",
        "nota3 = float(input (\"Digite a nota 3:  \"))\n",
        "nota4 = float(input (\"Digite a nota 4:  \"))\n",
        "\n",
        "media = (nota1+nota2+nota3+nota4) / 4\n",
        "\n",
        "print (\"Média do aluno ;  \", media)\n",
        "\n",
        "if (media>=5.75):\n",
        "    print(\"Aprovado!!!\")\n",
        "\n",
        "\n",
        "else :    print(\"Reprovado!\")\n",
        "\n"
      ],
      "metadata": {
        "id": "nYV0EWjVcs5X",
        "colab": {
          "base_uri": "https://localhost:8080/"
        },
        "outputId": "e91902c0-16af-4b7f-f2ff-d9bcca066c6c"
      },
      "execution_count": null,
      "outputs": [
        {
          "output_type": "stream",
          "name": "stdout",
          "text": [
            "Digite a nota 1:  8.55247\n",
            "Digite a nota 2:  7.5\n",
            "Digite a nota 3:  9.587\n",
            "Digite a nota 4:  7.546889745\n",
            "Média do aluno ;   8.29658993625\n",
            "Aprovado!!!\n"
          ]
        }
      ]
    },
    {
      "cell_type": "code",
      "source": [
        "n1=14\n",
        "n2= 5\n",
        "peso=2\n",
        "soma = n1/peso\n",
        "\n",
        "soma = soma+ (n2*peso)\n",
        "\n",
        "print(\"Soma =\", soma)"
      ],
      "metadata": {
        "colab": {
          "base_uri": "https://localhost:8080/"
        },
        "id": "kV8wn1V1vtIp",
        "outputId": "2a0af6d6-fead-4ab2-cccf-f83e7784528a"
      },
      "execution_count": null,
      "outputs": [
        {
          "output_type": "stream",
          "name": "stdout",
          "text": [
            "Soma = 17.0\n"
          ]
        }
      ]
    },
    {
      "cell_type": "code",
      "source": [
        "# Exemplo 3 : Escreva uma função que gere uma sequência de valores de uma PA (Progressão Aritmética),\n",
        "# a partir da entrada do 1º elemento, da razão e do número de elementos desejados.\n",
        "def f_pa(p, r, n) :\n",
        "  numero = p\n",
        "  for c in range(p,n):\n",
        "    print(numero)\n",
        "    numero = numero + r\n",
        "  return numero  \n",
        "\n",
        "def pa(num, repet, razao) :\n",
        "  numero = num\n",
        "  r=0\n",
        "  while r<repet:\n",
        "    r+=1\n",
        "    print(numero)\n",
        "    numero = numero + razao\n",
        "  return numero  \n",
        "\n",
        "\n",
        "n1=int(input(\"Digite o número inicial: \"))\n",
        "razao= int(input(\"Digite o a razão: \"))\n",
        "repet= int(input(\"Informe o número de repetições: \"))\n",
        "\n",
        "print(pa(n1,repet,razao))\n",
        "\n"
      ],
      "metadata": {
        "colab": {
          "base_uri": "https://localhost:8080/"
        },
        "id": "izSxj5B5zbNb",
        "outputId": "0f911c0b-6217-4c54-faec-439c8991cd35"
      },
      "execution_count": null,
      "outputs": [
        {
          "output_type": "stream",
          "name": "stdout",
          "text": [
            "Digite o número inicial: 2\n",
            "Digite o a razão: 5\n",
            "Informe o número de repetições: 4\n",
            "2\n",
            "7\n",
            "12\n",
            "17\n",
            "22\n"
          ]
        }
      ]
    }
  ]
}