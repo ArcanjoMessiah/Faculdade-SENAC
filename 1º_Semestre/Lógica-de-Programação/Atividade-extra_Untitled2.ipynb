{
  "nbformat": 4,
  "nbformat_minor": 0,
  "metadata": {
    "colab": {
      "provenance": []
    },
    "kernelspec": {
      "name": "python3",
      "display_name": "Python 3"
    },
    "language_info": {
      "name": "python"
    }
  },
  "cells": [
    {
      "cell_type": "code",
      "execution_count": null,
      "metadata": {
        "colab": {
          "base_uri": "https://localhost:8080/"
        },
        "id": "NF987Qd6QhbY",
        "outputId": "3947b2a2-7071-496c-debc-55bd3a2db856"
      },
      "outputs": [
        {
          "output_type": "stream",
          "name": "stdout",
          "text": [
            "olá mundo\n"
          ]
        }
      ],
      "source": [
        "o = (\"olá\")\n",
        "m = (\"mundo\")\n",
        "print(o+\" \"+m)\n",
        "\n"
      ]
    },
    {
      "cell_type": "code",
      "source": [
        "o = (\"olá\")\n",
        "m = (\"mundo\")\n",
        "msg = o+\" \"+m\n",
        "print(msg.upper())"
      ],
      "metadata": {
        "colab": {
          "base_uri": "https://localhost:8080/"
        },
        "id": "r69bbvN3Q_MR",
        "outputId": "de2ffe35-7bec-422e-c588-d0756af4e2ad"
      },
      "execution_count": null,
      "outputs": [
        {
          "output_type": "stream",
          "name": "stdout",
          "text": [
            "OLÁ MUNDO\n"
          ]
        }
      ]
    },
    {
      "cell_type": "code",
      "source": [
        "o = (\"olá\")\n",
        "m = (\"mundo\")\n",
        "msg = o+\" \"+m\n",
        "print(msg.replace(\"mundo\", \"alunos\")) "
      ],
      "metadata": {
        "colab": {
          "base_uri": "https://localhost:8080/"
        },
        "id": "H9t-DKulRbiZ",
        "outputId": "d9e09a9b-bdad-4b2b-f7f3-2436da469b7e"
      },
      "execution_count": null,
      "outputs": [
        {
          "output_type": "stream",
          "name": "stdout",
          "text": [
            "olá alunos\n"
          ]
        }
      ]
    }
  ]
}