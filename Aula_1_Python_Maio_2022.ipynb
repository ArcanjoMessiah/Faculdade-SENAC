{
  "nbformat": 4,
  "nbformat_minor": 0,
  "metadata": {
    "colab": {
      "provenance": [],
      "collapsed_sections": [],
      "include_colab_link": true
    },
    "kernelspec": {
      "name": "python3",
      "display_name": "Python 3"
    },
    "language_info": {
      "name": "python"
    }
  },
  "cells": [
    {
      "cell_type": "markdown",
      "metadata": {
        "id": "view-in-github",
        "colab_type": "text"
      },
      "source": [
        "<a href=\"https://colab.research.google.com/github/ArcanjoMessiah/Faculdade-SENAC/blob/main/Aula_1_Python_Maio_2022.ipynb\" target=\"_parent\"><img src=\"https://colab.research.google.com/assets/colab-badge.svg\" alt=\"Open In Colab\"/></a>"
      ]
    },
    {
      "cell_type": "markdown",
      "source": [
        "Aula 1 - Linguagem PYTHON\n",
        "1.   Variáveis;\n",
        "2.   Comentários;\n",
        "3.   Entrada de Dados; e \n",
        "4.   Apresentação de Dados na Tela."
      ],
      "metadata": {
        "id": "pm73H817lfNK"
      }
    },
    {
      "cell_type": "markdown",
      "source": [
        "1 - Variáveis"
      ],
      "metadata": {
        "id": "mWz3l8vrnZ7o"
      }
    },
    {
      "cell_type": "code",
      "execution_count": null,
      "metadata": {
        "id": "8iO6D3dXleFZ"
      },
      "outputs": [],
      "source": [
        "nome = \"Maria\"\n",
        "idade = 19\n",
        "salario = 3298.95\n",
        "trabalha = True"
      ]
    },
    {
      "cell_type": "code",
      "source": [
        "nome = \"Pedro\"\n",
        "idade = 29\n",
        "salario = 2298.95\n",
        "trabalha = False\n",
        "print( type(nome) )\n",
        "print( type(idade) )\n",
        "print( type(salario) )\n",
        "print( type(trabalha) )"
      ],
      "metadata": {
        "id": "51hUTySXoIpA"
      },
      "execution_count": null,
      "outputs": []
    },
    {
      "cell_type": "code",
      "source": [
        "# Exemplo: Faça um programa que mostre o valor das parcelas a serem pagas \n",
        "#          na compra de um televisar em 12 vezes sem juros. Sabe-se que a \n",
        "#          TV custa 3600.99\n",
        "\n",
        "# Programa ParcelasTV\n",
        "preco = 3600.99\n",
        "parcelas = preco / 12\n",
        "print(\"Valor das Parcelas = \" , parcelas)\n",
        "# Final do programa"
      ],
      "metadata": {
        "colab": {
          "base_uri": "https://localhost:8080/"
        },
        "id": "xkJZvvJjouTh",
        "outputId": "0a11504c-ec9a-494e-a3cb-e4221014693c"
      },
      "execution_count": null,
      "outputs": [
        {
          "output_type": "stream",
          "name": "stdout",
          "text": [
            "Valor das Parcelas =  300.0825\n"
          ]
        }
      ]
    },
    {
      "cell_type": "code",
      "source": [
        "# Exercício : Faça um programa que mostre a quantidade de litros de gasolina\n",
        "#             que uma pessoa gastará numa viagem de carro. Sabe-se que a distância\n",
        "#             a ser percorrida é de 450 Km e que o carro faz 12 Km/L.\n",
        "\n",
        "# Programa ViagemConsumo\n",
        "preco = 3600.99\n",
        "parcelas = preco / 12\n",
        "print(\"Valor das Parcelas = \" , parcelas)\n",
        "# Final do programa"
      ],
      "metadata": {
        "id": "4qit4pnrp9s5"
      },
      "execution_count": null,
      "outputs": []
    },
    {
      "cell_type": "markdown",
      "source": [
        "2 - Comentários"
      ],
      "metadata": {
        "id": "F6YcbXNGrDNi"
      }
    },
    {
      "cell_type": "code",
      "source": [
        "# O símbolo \"#\" é utilizado para incluir no programa uma linha de comentário.\n",
        "# Todas as instruções inseridas após o \"#\" serão ignoradas na execução do programa\n",
        "\n",
        "# Programa usoDeComentarios\n",
        "nome = \"Maria Helena\"  # nome do funcionário\n",
        "prof = \"Analista de Sistemas\"   # profissão da funcionária \n",
        "sal  = 4980.88 \n",
        "# Cálculo do abono\n",
        "abono = sal * 0.12    # o percentual do abono é de 12%\n",
        "# Apresentação do resultado\n",
        "print(\"Nome : \", nome)\n",
        "print(\"Profissão : \", prof)\n",
        "print(\"Salário : \", sal)\n",
        "print(\"Abono : \", abono)\n"
      ],
      "metadata": {
        "id": "-9Vx8uDTq2X4"
      },
      "execution_count": null,
      "outputs": []
    },
    {
      "cell_type": "code",
      "source": [
        "\"\"\" \n",
        "  O Python permite o uso de blocos de comentários, a partir do uso de 3 aspas \n",
        "  no início do comentário e 3 no final.\n",
        "\"\"\"\n",
        "''' Programa usoDeComentarios '''\n",
        "nome = \"Maria Helena\" \n",
        "prof = \"Analista de Sistemas\"  \n",
        "sal  = 4980.88 \n",
        "abono = sal * 0.12    \n",
        "print(\"Nome : \", nome)\n",
        "print(\"Profissão : \", prof)\n",
        "print(\"Salário : \", sal)\n",
        "print(\"Abono : \", abono)"
      ],
      "metadata": {
        "id": "6Rd__9oqtX1Y"
      },
      "execution_count": null,
      "outputs": []
    },
    {
      "cell_type": "markdown",
      "source": [
        "3 - Entrada de Dados\n",
        "\n",
        "input() - Função que permite receber dados.\n",
        "\n",
        "Sintaxe: variável = input(\"Mensagem orientando a digitação do usuário:\")\n",
        "\n",
        "  Exemplo Portugol: \n",
        "  Escreva(\"Digite o seu nome : \")\n",
        "  Leia nome\n",
        "\n",
        "  Exemplo no Python:\n",
        "  nome = input(\"Digite o seu nome : \")    \n",
        "\n",
        "    Observação: Os dados recebidos no input são \n",
        "    sempre do tipo STRING. Sendo assim, precisamos \n",
        "    das funções int() e float() para converter os \n",
        "    dados para os tipos números necessários."
      ],
      "metadata": {
        "id": "zNKxYuOCu484"
      }
    },
    {
      "cell_type": "code",
      "source": [
        "# Exemplo: Faça um Programa para receber o nome, a cidade e a profissão de uma pessoa.\n",
        "\n",
        "# Programa RecebeDados\n",
        "nome = input(\"Digite o seu nome : \")\n",
        "cidade = input(\"Digite a cidade : \")\n",
        "profissao = input(\"Digite a profissão : \")\n",
        "# final do programa\n"
      ],
      "metadata": {
        "id": "zn4cVR9uu_5I"
      },
      "execution_count": null,
      "outputs": []
    },
    {
      "cell_type": "code",
      "source": [
        "# Exercício: Escreva um programa que receba o Nome, a Profissão, o Tempo de Serviço e \n",
        "#            o Salário de uma pessoa. Será necessário utilizar as funções float() e int()\n",
        "#            para converter os dados para o tipo de dado desejado.\n",
        "\n",
        "# Programa ExemploEntradaDeDados\n"
      ],
      "metadata": {
        "id": "gfEXjrUly1gq"
      },
      "execution_count": null,
      "outputs": []
    },
    {
      "cell_type": "markdown",
      "source": [
        "4 - Apresentação de Dados\n",
        "\n",
        "print() - Permite apresentar dados na tela. Podemos utilizar mensagens entre aspas, variáveis e/ou operações matemáticas dentro dos parênteses."
      ],
      "metadata": {
        "id": "kpeN18ntzxy4"
      }
    },
    {
      "cell_type": "code",
      "source": [
        "# Exemplo 1 - Uso do print()\n",
        "print(\"Lógica de Programação do Python\")  # Apresentação de mensagem\n",
        "nome = \"José\"\n",
        "print(nome)   # Apresentação de variável\n",
        "print(\"Boa noite \" , nome) # Apresentação de mensagem com variável\n",
        "sal = 3580.88\n",
        "print(\"Abono = \" , sal * 0.12) # Apresentação de mensagem com expressão matemática"
      ],
      "metadata": {
        "id": "EURjDCAw0rij"
      },
      "execution_count": null,
      "outputs": []
    },
    {
      "cell_type": "code",
      "source": [
        "# Exemplo 2 - Uso do print()\n",
        "funcionario = \"João\"\n",
        "profissao = \"Analista de Sistemas\"\n",
        "salario = 5000.95\n",
        "print(  funcionario , \" é \" , profissao , \" e ganha  \" ,  salario )\n",
        "print(  \"A gratificação do \" ,  funcionario ,  \"  é  \"  ,  salario * 15 / 100 )\n",
        "# fim "
      ],
      "metadata": {
        "id": "DQEGx1g6zxEq"
      },
      "execution_count": null,
      "outputs": []
    },
    {
      "cell_type": "code",
      "source": [
        "# Exemplo 3 - Uso do print() com formatação\n",
        "preco = 3765.49\n",
        "desconto = preco * 0.0276\n",
        "\n",
        "# Valores sem formatação\n",
        "print(\"Preço do produto  = \" , preco)\n",
        "print(\"Preço do desconto = \" , desconto)\n",
        "\n",
        "\n",
        "# Valores com formatação\n",
        "print(f\"\\nPreço do produto  = {preco}\")\n",
        "print(f\"Preço do desconto = {desconto}\")\n",
        "print(f\"Preço do desconto = {desconto:.2f}\")\n",
        "print(f\"Preço do produto  = {preco:10.2f}\")\n",
        "print(f\"Preço do desconto = {desconto:10.2f}\")\n"
      ],
      "metadata": {
        "id": "sf6eYguu2dSR"
      },
      "execution_count": null,
      "outputs": []
    },
    {
      "cell_type": "code",
      "source": [
        "# Exercício 1 : Faça um algoritmo que receba as medidas da base e altura de um\n",
        "#    retângulo, calcule e apresente a área e o perímetro deste retângulo.\n",
        "#    Fórmulas: Área = base x altura  \n",
        "#              Perímetro = (2 x base) + (2 x altura)\n",
        "\n",
        "base= float(input(\"Informe o tamanho da base: \"))\n",
        "altura= float(input(\"Informe a altura: \"))\n",
        "\n",
        "area= base*altura\n",
        "perimetro= (2*base)+(2*altura)\n",
        "\n",
        "print(\"\\nA área do seu retângulo é de \",area,\"\\n\\nCom um perimetro de: \",perimetro)\n"
      ],
      "metadata": {
        "id": "d7fbEvE95J36",
        "colab": {
          "base_uri": "https://localhost:8080/"
        },
        "outputId": "e83b758b-b3ee-4194-dea6-64bdc3141284"
      },
      "execution_count": null,
      "outputs": [
        {
          "output_type": "stream",
          "name": "stdout",
          "text": [
            "Informe o tamanho da base: 9\n",
            "Informe a altura: 12\n",
            "\n",
            "A área do seu retângulo é de  108.0 \n",
            "\n",
            "Com um perimetro de:  42.0\n"
          ]
        }
      ]
    },
    {
      "cell_type": "code",
      "source": [
        "# Exercício 2 : Uma revendedora de carros usados paga a seus vendedores um \n",
        "#    salário fixo por mês, mais uma comissão de 0,5% sobre o valor total das\n",
        "#    vendas realizadas pelo vendedor. Escreva um algoritmo que calcule e exiba\n",
        "#    o salário final de um vendedor.\n",
        "\n",
        "salario=float(input(\"Digite o seu salário: \"))\n",
        "vendas=float(input(\"Informe o seu total de vendas: \"))\n",
        "\n",
        "comissao= (vendas*0.005)\n",
        "\n",
        "print(\"\\nSua comissõa será de \", comissão,\"\\n\\nO seu total a receber é de :  \", comissao+salario)"
      ],
      "metadata": {
        "id": "ybHGT_DU6cGD"
      },
      "execution_count": null,
      "outputs": []
    },
    {
      "cell_type": "code",
      "source": [
        "# Exercício 3 : A DoceLar, loja especializada em eletrodomésticos, está vendendo\n",
        "#    os produtos com 20% de desconto, parcelados em 5 vezes sem juros. Faça um\n",
        "#    programa que receba o valor da compra do cliente, calcule e mostre o valor\n",
        "#    do desconto e o valor das prestações a serem pagas. \n",
        "\n",
        "compra=float(input(\"Informe o valor da compra: R$ \"))\n",
        "\n",
        "desconto= compra*0.20\n",
        "total= compra-desconto\n",
        "\n",
        "print(f\"\\n\\nO seu desconto será de: R$ {desconto: .2f}\")\n",
        "print(f\"\\nO total da sua compra com desconto será de: R${total: .2f}\")\n",
        "print(f\"\\nVocê pode pagar em até 5x de R${total/5: .2f}\")\n"
      ],
      "metadata": {
        "id": "_ldABqEl6vMi",
        "colab": {
          "base_uri": "https://localhost:8080/"
        },
        "outputId": "d51042aa-4603-45e6-a8d1-9b5d46106456"
      },
      "execution_count": null,
      "outputs": [
        {
          "output_type": "stream",
          "name": "stdout",
          "text": [
            "Informe o valor da compra: R$ 988.79\n",
            "\n",
            "\n",
            "O seu desconto será de: R$  197.76\n",
            "\n",
            "O total da sua compra com desconto será de: R$ 791.03\n",
            "\n",
            "Você pode pagar em até 5x de R$ 158.21\n"
          ]
        }
      ]
    }
  ]
}